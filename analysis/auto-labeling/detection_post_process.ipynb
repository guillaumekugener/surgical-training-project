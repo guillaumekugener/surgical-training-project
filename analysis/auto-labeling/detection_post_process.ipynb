{
 "cells": [
  {
   "cell_type": "markdown",
   "metadata": {},
   "source": [
    "This document is used in order to test out different functionalities that will later be put into their own separate functions and classes"
   ]
  },
  {
   "cell_type": "code",
   "execution_count": 2,
   "metadata": {
    "collapsed": true
   },
   "outputs": [],
   "source": [
    "import pickle\n",
    "import os\n",
    "import numpy as np\n",
    "import pandas as pd\n",
    "import copy\n",
    "\n",
    "import matplotlib.pyplot as plt\n",
    "from matplotlib.patches import Rectangle\n",
    "import cv2\n",
    "\n",
    "from lxml import etree\n",
    "import re\n",
    "import tqdm"
   ]
  },
  {
   "cell_type": "code",
   "execution_count": 3,
   "metadata": {
    "collapsed": true
   },
   "outputs": [],
   "source": [
    "%load_ext autoreload\n",
    "%autoreload 2"
   ]
  },
  {
   "cell_type": "code",
   "execution_count": 4,
   "metadata": {
    "collapsed": true
   },
   "outputs": [],
   "source": [
    "import sys\n",
    "import importlib  \n",
    "# insert at 1, 0 is the script path (or '' in REPL)\n",
    "sys.path.insert(1, '/Users/guillaumekugener/Documents/USC/USC_docs/ml/surgical-training-project/tools')\n",
    "\n",
    "import utils"
   ]
  },
  {
   "cell_type": "code",
   "execution_count": 200,
   "metadata": {
    "collapsed": true
   },
   "outputs": [],
   "source": [
    "main_output_directory = '/Users/guillaumekugener/Documents/USC/USC_docs/ml/surgical-training-project/'"
   ]
  },
  {
   "cell_type": "code",
   "execution_count": 5,
   "metadata": {
    "collapsed": true
   },
   "outputs": [],
   "source": [
    "data_dir = '/Users/guillaumekugener/Documents/USC/USC_docs/ml/datasets/surgical-auto-labelled-videos/'\n",
    "ANNOTATION_DIR = '/Users/guillaumekugener/Documents/USC/USC_docs/ml/datasets/large-clean-surgical-ds/Annotations'\n",
    "classes_file = '/Users/guillaumekugener/Documents/USC/USC_docs/ml/datasets/clean-surgical-ds/classes.name'"
   ]
  },
  {
   "cell_type": "code",
   "execution_count": 6,
   "metadata": {
    "collapsed": true
   },
   "outputs": [],
   "source": [
    "images_main_directory = '/Users/guillaumekugener/Documents/USC/USC_docs/ml/datasets/large-clean-surgical-ds/JPEGImages/'"
   ]
  },
  {
   "cell_type": "code",
   "execution_count": 7,
   "metadata": {
    "collapsed": true
   },
   "outputs": [],
   "source": [
    "classes_map = pd.read_csv(classes_file, sep='\\t',header=None)"
   ]
  },
  {
   "cell_type": "code",
   "execution_count": 191,
   "metadata": {
    "collapsed": true
   },
   "outputs": [],
   "source": [
    "dict_video_data_start_id = {\n",
    "    'S306T1': 1730,\n",
    "    'S306T2': 15140,\n",
    "    'S611T1': 23990, # This is the one used for validation\n",
    "    'S609T2': 20330\n",
    "}\n"
   ]
  },
  {
   "cell_type": "code",
   "execution_count": 211,
   "metadata": {},
   "outputs": [
    {
     "name": "stderr",
     "output_type": "stream",
     "text": [
      "100%|██████████| 9371/9371 [00:03<00:00, 2507.37it/s]\n",
      "9371it [00:25, 360.67it/s]\n",
      "100%|██████████| 937100/937100 [03:15<00:00, 4802.70it/s]\n",
      "  0%|          | 0/5921 [00:00<?, ?it/s]"
     ]
    },
    {
     "name": "stdout",
     "output_type": "stream",
     "text": [
      "Map for S306T1: 0.3368886251378527\n"
     ]
    },
    {
     "name": "stderr",
     "output_type": "stream",
     "text": [
      "100%|██████████| 5921/5921 [00:02<00:00, 2500.05it/s]\n",
      "5921it [00:15, 372.93it/s]\n",
      "100%|██████████| 592100/592100 [01:59<00:00, 4940.66it/s]\n",
      "  5%|▍         | 226/4811 [00:00<00:02, 2255.65it/s]"
     ]
    },
    {
     "name": "stdout",
     "output_type": "stream",
     "text": [
      "Map for S306T2: 0.6916805271698753\n"
     ]
    },
    {
     "name": "stderr",
     "output_type": "stream",
     "text": [
      "100%|██████████| 4811/4811 [00:02<00:00, 2311.72it/s]\n",
      "4811it [00:12, 389.84it/s]\n",
      "100%|██████████| 481100/481100 [01:36<00:00, 4967.07it/s]\n",
      "  7%|▋         | 192/2561 [00:00<00:01, 1905.54it/s]"
     ]
    },
    {
     "name": "stdout",
     "output_type": "stream",
     "text": [
      "Map for S611T1: 0.6615636972616987\n"
     ]
    },
    {
     "name": "stderr",
     "output_type": "stream",
     "text": [
      "100%|██████████| 2561/2561 [00:01<00:00, 2046.62it/s]\n",
      "2561it [00:07, 353.92it/s]\n",
      "100%|██████████| 256100/256100 [00:52<00:00, 4850.28it/s]\n"
     ]
    },
    {
     "name": "stdout",
     "output_type": "stream",
     "text": [
      "Map for S609T2: 0.7732341278689759\n"
     ]
    }
   ],
   "source": [
    "complete_df = None\n",
    "total_positives = {}\n",
    "for video_id in dict_video_data_start_id:\n",
    "    # First get the number of positives in this dataset\n",
    "    all_frames = [os.path.join(ANNOTATION_DIR, a) for a in os.listdir(ANNOTATION_DIR) if re.search('^' + video_id, a)]\n",
    "    current_positives = utils.total_objects_to_detect_in_video(all_frames, classes_map)\n",
    "    total_positives[video_id] = current_positives\n",
    "    \n",
    "    video_start_id = dict_video_data_start_id[video_id]\n",
    "\n",
    "    data = None\n",
    "\n",
    "    with open(os.path.join(data_dir, video_id + '_stats.pkl'), 'rb') as stats_array:\n",
    "        data = pickle.load(stats_array)\n",
    "\n",
    "    # All the processing we have to do before we can calculate the mAP\n",
    "    pandas_detected_objects = utils.make_df_of_detected_objects(\n",
    "        data, \n",
    "        video_id, \n",
    "        video_start_id, \n",
    "        classes_map,\n",
    "        min_score=0.01)\n",
    "    \n",
    "    pandas_detected_objects = utils.calculate_precision_recall(\n",
    "        pandas_detected_objects, \n",
    "        ANNOTATION_DIR,\n",
    "        classes_map,\n",
    "        video_id\n",
    "    )\n",
    "    \n",
    "    if complete_df is None:\n",
    "        complete_df = pandas_detected_objects\n",
    "    else:\n",
    "        complete_df = pd.concat([complete_df, pandas_detected_objects])\n",
    "        \n",
    "    map_value = utils.calculate_map(\n",
    "        pandas_detected_objects, \n",
    "        sum([current_positives[i] for i in current_positives]))\n",
    "    print(f\"Map for {video_id}: {map_value}\")"
   ]
  },
  {
   "cell_type": "code",
   "execution_count": 212,
   "metadata": {
    "collapsed": true
   },
   "outputs": [],
   "source": [
    "complete_df.to_csv(os.path.join(main_output_directory, 'data/yolov3_complete_metrics.csv'))"
   ]
  },
  {
   "cell_type": "code",
   "execution_count": 213,
   "metadata": {
    "collapsed": true
   },
   "outputs": [],
   "source": [
    "total_positives_df = {\n",
    "    'video_id': [],\n",
    "    'tool': [],\n",
    "    'total': []\n",
    "}\n",
    "for k in total_positives:\n",
    "    for j in total_positives[k]:\n",
    "        total_positives_df['video_id'].append(k)\n",
    "        total_positives_df['tool'].append(j)\n",
    "        total_positives_df['total'].append(total_positives[k][j])\n",
    "        \n",
    "total_positives_df = pd.DataFrame(total_positives_df)\n",
    "total_positives_df.to_csv(os.path.join(main_output_directory, 'data/ground_truth_totals.csv'))"
   ]
  },
  {
   "cell_type": "code",
   "execution_count": null,
   "metadata": {
    "collapsed": true
   },
   "outputs": [],
   "source": []
  }
 ],
 "metadata": {
  "kernelspec": {
   "display_name": "yolov3-tf2-cpu",
   "language": "python",
   "name": "yolov3-tf2-cpu"
  },
  "language_info": {
   "codemirror_mode": {
    "name": "ipython",
    "version": 3
   },
   "file_extension": ".py",
   "mimetype": "text/x-python",
   "name": "python",
   "nbconvert_exporter": "python",
   "pygments_lexer": "ipython3",
   "version": "3.7.0"
  }
 },
 "nbformat": 4,
 "nbformat_minor": 2
}
