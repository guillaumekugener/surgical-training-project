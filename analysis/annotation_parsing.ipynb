{
 "cells": [
  {
   "cell_type": "markdown",
   "metadata": {},
   "source": [
    "# Annotation parsing\n",
    "\n",
    "The purpose of this analysis file is to develop a pipeline to parse the annotations file. We will creata an annotations class object that we will then be able to parse in order to obtain the various objects stored in the annotations."
   ]
  },
  {
   "cell_type": "code",
   "execution_count": 1,
   "metadata": {
    "collapsed": true
   },
   "outputs": [],
   "source": [
    "%load_ext autoreload\n",
    "%autoreload 2"
   ]
  },
  {
   "cell_type": "code",
   "execution_count": 100,
   "metadata": {
    "collapsed": true
   },
   "outputs": [],
   "source": [
    "import sys\n",
    "import xml.etree.ElementTree as ET\n",
    "import xml.etree as etree\n",
    "import zipfile\n",
    "import os"
   ]
  },
  {
   "cell_type": "code",
   "execution_count": 6,
   "metadata": {
    "collapsed": true
   },
   "outputs": [],
   "source": [
    "from surgical_video_annotation import SurgicalVideoAnnotation"
   ]
  },
  {
   "cell_type": "code",
   "execution_count": 7,
   "metadata": {
    "collapsed": true
   },
   "outputs": [],
   "source": [
    "example_zip_file = '/Users/guillaumekugener/Downloads/git_annotation_2019_12_05_06_06_46.dump'"
   ]
  },
  {
   "cell_type": "code",
   "execution_count": 79,
   "metadata": {
    "collapsed": true
   },
   "outputs": [],
   "source": [
    "zip_e = '/Users/guillaumekugener/Downloads/ParkCity2019-170211-ch1_video_01_frame_00021001_frame_00022000.zip'"
   ]
  },
  {
   "cell_type": "code",
   "execution_count": 115,
   "metadata": {},
   "outputs": [],
   "source": [
    "sva = SurgicalVideoAnnotation(zip_e)"
   ]
  },
  {
   "cell_type": "code",
   "execution_count": 118,
   "metadata": {},
   "outputs": [
    {
     "name": "stdout",
     "output_type": "stream",
     "text": [
      "frame_00021183.jpeg\n",
      "[('__undefined__', 'TL'), ('grasper', 'BL'), ('string', 'BR')]\n",
      "[(382.8, 234.8), (525.7, 647.24)]\n",
      "(454.25, 441.02)\n"
     ]
    }
   ],
   "source": [
    "ti = 21182-21000\n",
    "print(sva.frames[ti].name)\n",
    "print(sva.frames[ti].get_tool_quadrants())\n",
    "print(sva.frames[ti].tools[0].coordinates)\n",
    "print(sva.frames[ti].tools[0].get_position())"
   ]
  },
  {
   "cell_type": "code",
   "execution_count": null,
   "metadata": {
    "collapsed": true
   },
   "outputs": [],
   "source": []
  }
 ],
 "metadata": {
  "kernelspec": {
   "display_name": "Python 3",
   "language": "python",
   "name": "python3"
  },
  "language_info": {
   "codemirror_mode": {
    "name": "ipython",
    "version": 3
   },
   "file_extension": ".py",
   "mimetype": "text/x-python",
   "name": "python",
   "nbconvert_exporter": "python",
   "pygments_lexer": "ipython3",
   "version": "3.7.4"
  }
 },
 "nbformat": 4,
 "nbformat_minor": 2
}
